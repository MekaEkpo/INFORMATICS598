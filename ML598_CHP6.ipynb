{
  "nbformat": 4,
  "nbformat_minor": 0,
  "metadata": {
    "colab": {
      "provenance": [],
      "authorship_tag": "ABX9TyNwdaZKg2WF/uDysdKFzAEU",
      "include_colab_link": true
    },
    "kernelspec": {
      "name": "python3",
      "display_name": "Python 3"
    },
    "language_info": {
      "name": "python"
    }
  },
  "cells": [
    {
      "cell_type": "markdown",
      "metadata": {
        "id": "view-in-github",
        "colab_type": "text"
      },
      "source": [
        "<a href=\"https://colab.research.google.com/github/MekaEkpo/ML598INFX/blob/main/ML598_CHP6.ipynb\" target=\"_parent\"><img src=\"https://colab.research.google.com/assets/colab-badge.svg\" alt=\"Open In Colab\"/></a>"
      ]
    },
    {
      "cell_type": "markdown",
      "source": [
        "## 1. What is the approximate depth of a Decision Tree trained (without restrictions) on a training set with one million instances?"
      ],
      "metadata": {
        "id": "uKcFXiw6XCOZ"
      }
    },
    {
      "cell_type": "markdown",
      "source": [
        "--> If there are one million instances in the training set, the Decision Tree will have a depth of log2(106) ≈ 20"
      ],
      "metadata": {
        "id": "FDjSgfHNXLy9"
      }
    },
    {
      "cell_type": "markdown",
      "source": [
        "## 3. If a Decision Tree is overfitting the training set, is it a good idea to try decreasing max_depth?"
      ],
      "metadata": {
        "id": "SxJetnxHZAjm"
      }
    },
    {
      "cell_type": "markdown",
      "source": [
        "--> Yes, it may be a good idea to decreaase the max_depth because it would constrain the model, thus regularizing it."
      ],
      "metadata": {
        "id": "s8pGB15uZNL2"
      }
    },
    {
      "cell_type": "markdown",
      "source": [
        "## 4. If a Decision Tree is underfitting the training set, is it a good idea to try scaling the input features?"
      ],
      "metadata": {
        "id": "4952F-tqZyOD"
      }
    },
    {
      "cell_type": "markdown",
      "source": [
        "--> NO. It doesnt not matter if the training set is scaled or centered."
      ],
      "metadata": {
        "id": "ABPGcQdPaAFs"
      }
    },
    {
      "cell_type": "markdown",
      "source": [
        "## 7. Train and fine-tune a Decision Tree for the moons dataset"
      ],
      "metadata": {
        "id": "-6G8owoJabk_"
      }
    },
    {
      "cell_type": "code",
      "source": [
        "from sklearn.datasets import make_moons"
      ],
      "metadata": {
        "id": "4llu32Bpa2b1"
      },
      "execution_count": 1,
      "outputs": []
    },
    {
      "cell_type": "markdown",
      "source": [
        "# 7a. Use make_moons(n_samples=10000, noise=0.4) to generate a moons dataset"
      ],
      "metadata": {
        "id": "Xd1gUXhncBrW"
      }
    },
    {
      "cell_type": "code",
      "source": [
        "X, y = make_moons(n_samples=10000, noise=0.4, random_state=56)"
      ],
      "metadata": {
        "id": "aITHNnyUb1vw"
      },
      "execution_count": 40,
      "outputs": []
    },
    {
      "cell_type": "markdown",
      "source": [
        "# 7b. Use train_test_split() to split the dataset into a training set and a test set."
      ],
      "metadata": {
        "id": "Nx-7EwI4cF-E"
      }
    },
    {
      "cell_type": "code",
      "source": [
        "from sklearn.model_selection import train_test_split\n",
        "X_train, X_test, y_train, y_test = train_test_split(X, y, test_size=0.2, random_state=56)"
      ],
      "metadata": {
        "id": "o4BICnFgb754"
      },
      "execution_count": 41,
      "outputs": []
    },
    {
      "cell_type": "markdown",
      "source": [
        "# 7c. Use grid search with cross-validation (with the help of the GridSearchCV class) to find good hyperparameter values for a DecisionTreeClassifier. "
      ],
      "metadata": {
        "id": "RKO_qJzZc6Zr"
      }
    },
    {
      "cell_type": "code",
      "source": [
        "from sklearn.model_selection import GridSearchCV\n",
        "from sklearn.tree import DecisionTreeClassifier\n",
        "params = {'max_leaf_nodes': list(range(2, 100)), 'min_samples_split': [2, 3, 4]}\n",
        "grid_search_cv = GridSearchCV(DecisionTreeClassifier(random_state=56), params, verbose=1, cv=3)\n",
        "\n",
        "grid_search_cv.fit(X_train, y_train)"
      ],
      "metadata": {
        "colab": {
          "base_uri": "https://localhost:8080/"
        },
        "id": "u8g19zuKcN55",
        "outputId": "f8e7d3c9-92d9-4219-e262-e9fce9c2ee5a"
      },
      "execution_count": 42,
      "outputs": [
        {
          "output_type": "stream",
          "name": "stdout",
          "text": [
            "Fitting 3 folds for each of 294 candidates, totalling 882 fits\n"
          ]
        },
        {
          "output_type": "execute_result",
          "data": {
            "text/plain": [
              "GridSearchCV(cv=3, estimator=DecisionTreeClassifier(random_state=56),\n",
              "             param_grid={'max_leaf_nodes': [2, 3, 4, 5, 6, 7, 8, 9, 10, 11, 12,\n",
              "                                            13, 14, 15, 16, 17, 18, 19, 20, 21,\n",
              "                                            22, 23, 24, 25, 26, 27, 28, 29, 30,\n",
              "                                            31, ...],\n",
              "                         'min_samples_split': [2, 3, 4]},\n",
              "             verbose=1)"
            ]
          },
          "metadata": {},
          "execution_count": 42
        }
      ]
    },
    {
      "cell_type": "code",
      "source": [
        "grid_search_cv.best_estimator_"
      ],
      "metadata": {
        "colab": {
          "base_uri": "https://localhost:8080/"
        },
        "id": "b_45ZecmflPA",
        "outputId": "a02a6aec-77c3-4b03-fd8c-9283ca6d93e1"
      },
      "execution_count": 43,
      "outputs": [
        {
          "output_type": "execute_result",
          "data": {
            "text/plain": [
              "DecisionTreeClassifier(max_leaf_nodes=16, random_state=56)"
            ]
          },
          "metadata": {},
          "execution_count": 43
        }
      ]
    },
    {
      "cell_type": "markdown",
      "source": [
        "# 7d. Train it on the full training set using these hyperparameters, and measure your model’s performance on the test set."
      ],
      "metadata": {
        "id": "WDT5cKe9fpg_"
      }
    },
    {
      "cell_type": "code",
      "source": [
        "from sklearn.metrics import accuracy_score\n",
        "y_pred = grid_search_cv.predict(X_test)\n",
        "accuracy_score(y_test, y_pred)"
      ],
      "metadata": {
        "colab": {
          "base_uri": "https://localhost:8080/"
        },
        "id": "Pc291_MagXG2",
        "outputId": "018bdb31-012a-41af-978a-d7d382b08ac4"
      },
      "execution_count": 44,
      "outputs": [
        {
          "output_type": "execute_result",
          "data": {
            "text/plain": [
              "0.854"
            ]
          },
          "metadata": {},
          "execution_count": 44
        }
      ]
    }
  ]
}